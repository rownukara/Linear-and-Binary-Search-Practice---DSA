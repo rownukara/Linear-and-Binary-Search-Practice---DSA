{
  "nbformat": 4,
  "nbformat_minor": 0,
  "metadata": {
    "colab": {
      "provenance": []
    },
    "kernelspec": {
      "name": "python3",
      "display_name": "Python 3"
    },
    "language_info": {
      "name": "python"
    }
  },
  "cells": [
    {
      "cell_type": "markdown",
      "source": [
        "Problem - Rotated Lists\n",
        "\n",
        "You are given list of numbers, obtained by rotating a sorted list an unknown number of times. Write a function to determine the minimum number of times the original sorted list was rotated to obtain the given list. Your function should have the worst-case complexity of O(log N), where N is the length of the list. You can assume that all the numbers in the list are unique.\n",
        "\n",
        "Example: The list [5, 6, 9, 0, 2, 3, 4] was obtained by rotating the sorted list [0, 2, 3, 4, 5, 6, 9] 3 times.\n",
        "\n",
        "We define \"rotating a list\" as removing the last element of the list and adding it before the first element. E.g. rotating the list [3, 2, 4, 1] produces [1, 3, 2, 4].\n",
        "\n",
        "\"Sorted list\" refers to a list where the elements are arranged in the increasing order e.g. [1, 3, 5, 7]."
      ],
      "metadata": {
        "id": "QTKFV0TEqBO0"
      }
    },
    {
      "cell_type": "code",
      "source": [
        "class Solution(object):\n",
        "    def check(self, nums):\n",
        "      low=0\n",
        "      high=len(nums)-1\n",
        "      while low<=high:\n",
        "        mid=(low+high)//2\n",
        "        next_mid=(mid+1)%len(nums)\n",
        "        prev_mid=(mid-1+len(nums))%len(nums)\n",
        "        if nums[mid]<nums[prev_mid] and nums[mid]<nums[next_mid] :\n",
        "          return mid\n",
        "        elif nums[mid]>nums[high]:\n",
        "          low=mid+1\n",
        "        else:\n",
        "          high=mid-1\n",
        "      return -1\n",
        "\n"
      ],
      "metadata": {
        "id": "8ELKzwteqPpR"
      },
      "execution_count": 4,
      "outputs": []
    },
    {
      "cell_type": "code",
      "source": [
        "s=Solution()\n",
        "nums=[1,2,4,5,6,7,0]\n",
        "s.check(nums)"
      ],
      "metadata": {
        "colab": {
          "base_uri": "https://localhost:8080/"
        },
        "id": "nZuAV-hH2yi7",
        "outputId": "b151ca0a-dde8-4274-bbb5-3996d83c5d2a"
      },
      "execution_count": 2,
      "outputs": [
        {
          "output_type": "execute_result",
          "data": {
            "text/plain": [
              "6"
            ]
          },
          "metadata": {},
          "execution_count": 2
        }
      ]
    },
    {
      "cell_type": "code",
      "source": [
        "print(nums[4])"
      ],
      "metadata": {
        "colab": {
          "base_uri": "https://localhost:8080/"
        },
        "id": "EejOjSha7YPb",
        "outputId": "f64114f1-6a3a-42c9-acb7-ac9541691fab"
      },
      "execution_count": 3,
      "outputs": [
        {
          "output_type": "stream",
          "name": "stdout",
          "text": [
            "6\n"
          ]
        }
      ]
    },
    {
      "cell_type": "code",
      "source": [],
      "metadata": {
        "id": "R1gErcpnq4mb"
      },
      "execution_count": null,
      "outputs": []
    },
    {
      "cell_type": "markdown",
      "source": [
        "Time Complexity= O(log n) and\n",
        "Space Compexity= O(1)"
      ],
      "metadata": {
        "id": "2QnNjTSBq6Aj"
      }
    }
  ]
}