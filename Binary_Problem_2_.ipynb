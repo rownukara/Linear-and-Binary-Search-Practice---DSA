{
  "nbformat": 4,
  "nbformat_minor": 0,
  "metadata": {
    "colab": {
      "provenance": []
    },
    "kernelspec": {
      "name": "python3",
      "display_name": "Python 3"
    },
    "language_info": {
      "name": "python"
    }
  },
  "cells": [
    {
      "cell_type": "markdown",
      "source": [
        "Given an array of integers nums which is sorted in ascending order, and an integer target, write a function to search target in nums. If target exists, then return its index. Otherwise, return -1.\n",
        "\n",
        "You must write an algorithm with O(log n) runtime complexity.\n",
        "\n",
        "Example 1:\n",
        "\n",
        "Input: nums = [-1,0,3,5,9,12], target = 9\n",
        "Output: 4\n",
        "Explanation: 9 exists in nums and its index is 4\n",
        "Example 2:\n",
        "\n",
        "Input: nums = [-1,0,3,5,9,12], target = 2\n",
        "Output: -1\n",
        "Explanation: 2 does not exist in nums so return -1"
      ],
      "metadata": {
        "id": "Oue6cB5DzXTr"
      }
    },
    {
      "cell_type": "code",
      "source": [
        "class Solution(object):\n",
        "    def search(self, nums, target):\n",
        "        low = 0\n",
        "        high = len(nums) - 1\n",
        "        while(low <= high):\n",
        "            mid = (low + high) // 2\n",
        "            if nums[mid] == target:\n",
        "                return mid\n",
        "            elif nums[mid] < target:\n",
        "                low = mid + 1\n",
        "            else:\n",
        "                high = mid - 1\n",
        "        return -1\n"
      ],
      "metadata": {
        "id": "6pTNGxxMzXtD"
      },
      "execution_count": 5,
      "outputs": []
    },
    {
      "cell_type": "code",
      "source": [
        "nums=[1,3,5,7,9,12,15,20,25,30]\n",
        "target=15"
      ],
      "metadata": {
        "id": "LK_NpLbcz0du"
      },
      "execution_count": 6,
      "outputs": []
    },
    {
      "cell_type": "code",
      "source": [
        "s=Solution()\n",
        "result=s.search(nums,target)\n",
        "print (result)"
      ],
      "metadata": {
        "colab": {
          "base_uri": "https://localhost:8080/"
        },
        "id": "8rghTQjkzXvm",
        "outputId": "1bd8a94e-fa6e-472a-b16a-350a3522a74b"
      },
      "execution_count": 8,
      "outputs": [
        {
          "output_type": "stream",
          "name": "stdout",
          "text": [
            "6\n"
          ]
        }
      ]
    },
    {
      "cell_type": "code",
      "source": [
        "print(nums[6])"
      ],
      "metadata": {
        "colab": {
          "base_uri": "https://localhost:8080/"
        },
        "id": "26FwKMpAzXyk",
        "outputId": "eec1a375-f6db-4480-9c9b-440ae6eaaff5"
      },
      "execution_count": 9,
      "outputs": [
        {
          "output_type": "stream",
          "name": "stdout",
          "text": [
            "15\n"
          ]
        }
      ]
    },
    {
      "cell_type": "code",
      "source": [],
      "metadata": {
        "id": "pStqXQDTzX0i"
      },
      "execution_count": null,
      "outputs": []
    },
    {
      "cell_type": "code",
      "source": [],
      "metadata": {
        "id": "oOfPJA4BzX3c"
      },
      "execution_count": null,
      "outputs": []
    }
  ]
}