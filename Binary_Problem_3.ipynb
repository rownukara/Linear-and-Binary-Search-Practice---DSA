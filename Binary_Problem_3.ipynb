{
  "nbformat": 4,
  "nbformat_minor": 0,
  "metadata": {
    "colab": {
      "provenance": []
    },
    "kernelspec": {
      "name": "python3",
      "display_name": "Python 3"
    },
    "language_info": {
      "name": "python"
    }
  },
  "cells": [
    {
      "cell_type": "markdown",
      "source": [
        "Given an array nums, return true if the array was originally sorted in non-decreasing order, then rotated some number of positions (including zero). Otherwise, return false.\n",
        "\n",
        "There may be duplicates in the original array.\n",
        "\n",
        "Note: An array A rotated by x positions results in an array B of the same length such that A[i] == B[(i+x) % A.length], where % is the modulo operation.\n",
        "\n",
        "\n",
        "\n",
        "Example 1:\n",
        "\n",
        "Input: nums = [3,4,5,1,2]\n",
        "Output: true\n",
        "Explanation: [1,2,3,4,5] is the original sorted array.\n",
        "You can rotate the array by x = 3 positions to begin on the the element of value 3: [3,4,5,1,2].\n",
        "Example 2:\n",
        "\n",
        "Input: nums = [2,1,3,4]\n",
        "Output: false\n",
        "Explanation: There is no sorted array once rotated that can make nums."
      ],
      "metadata": {
        "id": "-5jYPRTh9Y0b"
      }
    },
    {
      "cell_type": "code",
      "source": [
        "class Solution(object):\n",
        "    def check(self, nums):\n",
        "        count = 0\n",
        "        n = len(nums)\n",
        "\n",
        "        for i in range(n):\n",
        "            if nums[i] > nums[(i + 1) % n]:\n",
        "                count += 1\n",
        "            if count > 1:\n",
        "                return False\n",
        "\n",
        "        return True\n",
        "\n"
      ],
      "metadata": {
        "id": "HLJIL3YP9m8v"
      },
      "execution_count": 1,
      "outputs": []
    },
    {
      "cell_type": "code",
      "source": [
        "nums=[3,4,2,1]\n",
        "s=Solution()\n",
        "s.check(nums)"
      ],
      "metadata": {
        "colab": {
          "base_uri": "https://localhost:8080/"
        },
        "id": "LZK-SAdl9uFi",
        "outputId": "ced0e66b-9092-4363-dd4b-6178436f7fd2"
      },
      "execution_count": 2,
      "outputs": [
        {
          "output_type": "execute_result",
          "data": {
            "text/plain": [
              "False"
            ]
          },
          "metadata": {},
          "execution_count": 2
        }
      ]
    },
    {
      "cell_type": "markdown",
      "source": [
        "time complexity = O(n)\n",
        "space complexity = O(1)"
      ],
      "metadata": {
        "id": "yaTAjzBl9xZK"
      }
    }
  ]
}