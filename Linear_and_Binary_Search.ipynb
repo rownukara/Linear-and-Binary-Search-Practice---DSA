{
  "nbformat": 4,
  "nbformat_minor": 0,
  "metadata": {
    "colab": {
      "provenance": []
    },
    "kernelspec": {
      "name": "python3",
      "display_name": "Python 3"
    },
    "language_info": {
      "name": "python"
    }
  },
  "cells": [
    {
      "cell_type": "markdown",
      "source": [
        " Alice has some cards with numbers written on them. She arranges the cards in decreasing order, and lays them out face down in a sequence on a table. She challenges Bob to pick out the card containing a given number by turning over as few cards as possible. Write a function to help Bob locate the card.\n",
        "This may seem like a simple problem, especially if you're familiar with the concept of binary search, but the strategy and technique we learning here will be widely applicable, and we'll soon use it to solve harder problems."
      ],
      "metadata": {
        "id": "2SF_FTFPPeeF"
      }
    },
    {
      "cell_type": "markdown",
      "source": [
        "We can do that in two way\n",
        "1.   Linear Search\n",
        "2.   Binary Search\n",
        "\n"
      ],
      "metadata": {
        "id": "yLQ0U7ovP29W"
      }
    },
    {
      "cell_type": "code",
      "source": [
        "class Solution(object):\n",
        "\n",
        "    def locate_card(self,cards, query):\n",
        "        position = 0\n",
        "        for i in range(len(cards)):\n",
        "            if cards[i] == query:\n",
        "                position = i\n",
        "                return position\n",
        "        return -1\n"
      ],
      "metadata": {
        "id": "rrqyhEoJQKac"
      },
      "execution_count": 2,
      "outputs": []
    },
    {
      "cell_type": "code",
      "source": [
        "card=[13,11,10,7,4,3,1,0]\n",
        "query=7\n",
        "sol=Solution()\n",
        "sol.locate_card(card,query)"
      ],
      "metadata": {
        "colab": {
          "base_uri": "https://localhost:8080/"
        },
        "id": "719eeJQyUfMs",
        "outputId": "288ce9d7-9be0-4d2f-d57b-8ea3e69095fd"
      },
      "execution_count": 3,
      "outputs": [
        {
          "output_type": "execute_result",
          "data": {
            "text/plain": [
              "3"
            ]
          },
          "metadata": {},
          "execution_count": 3
        }
      ]
    },
    {
      "cell_type": "code",
      "source": [
        "card[3]"
      ],
      "metadata": {
        "colab": {
          "base_uri": "https://localhost:8080/"
        },
        "id": "OPrE97IdU7Qi",
        "outputId": "33c30fd4-8fff-4a21-f4f0-6fa3cdf21f97"
      },
      "execution_count": 4,
      "outputs": [
        {
          "output_type": "execute_result",
          "data": {
            "text/plain": [
              "7"
            ]
          },
          "metadata": {},
          "execution_count": 4
        }
      ]
    },
    {
      "cell_type": "markdown",
      "source": [
        "Time Complexity O(n) and\n",
        "Space Comlexity O(1)"
      ],
      "metadata": {
        "id": "aUUvJA9FVFFi"
      }
    },
    {
      "cell_type": "code",
      "source": [
        "#Binary Approch\n",
        "class Solution(object):\n",
        "  def locate_card(self,cards,query):\n",
        "    lo,hi=0,len(cards)-1\n",
        "    while lo<=hi:\n",
        "      mid=(lo+hi)//2\n",
        "      if cards[mid]==query:\n",
        "        return mid\n",
        "      elif cards[mid]<query:\n",
        "        hi=mid-1\n",
        "      elif cards[mid]>query:\n",
        "        lo=mid+1"
      ],
      "metadata": {
        "id": "maLUkZSwVQc6"
      },
      "execution_count": 6,
      "outputs": []
    },
    {
      "cell_type": "code",
      "source": [
        "card=[13,11,10,7,4,3,1,0]\n",
        "query=7\n",
        "sol=Solution()\n",
        "sol.locate_card(card,query)"
      ],
      "metadata": {
        "colab": {
          "base_uri": "https://localhost:8080/"
        },
        "id": "PeXaC915WYHi",
        "outputId": "808e8449-d184-467e-b2d5-a3cbb4a461ca"
      },
      "execution_count": 7,
      "outputs": [
        {
          "output_type": "execute_result",
          "data": {
            "text/plain": [
              "3"
            ]
          },
          "metadata": {},
          "execution_count": 7
        }
      ]
    },
    {
      "cell_type": "code",
      "source": [
        "card[3]"
      ],
      "metadata": {
        "colab": {
          "base_uri": "https://localhost:8080/"
        },
        "id": "W_NZvgNMWcG1",
        "outputId": "8588ae55-bece-4564-8760-5857496a01e4"
      },
      "execution_count": 8,
      "outputs": [
        {
          "output_type": "execute_result",
          "data": {
            "text/plain": [
              "7"
            ]
          },
          "metadata": {},
          "execution_count": 8
        }
      ]
    },
    {
      "cell_type": "markdown",
      "source": [
        "Time Complexity O(log n) and\n",
        "Space Comlexity O(1)"
      ],
      "metadata": {
        "id": "6ardi79dW2Yl"
      }
    },
    {
      "cell_type": "markdown",
      "source": [
        "Binary search is a better approach than linear search when the list is sorted because it significantly reduces the number of comparisons required to find an element."
      ],
      "metadata": {
        "id": "yf8H2HULXuJ5"
      }
    }
  ]
}